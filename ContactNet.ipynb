{
  "cells": [
    {
      "cell_type": "markdown",
      "metadata": {
        "id": "view-in-github",
        "colab_type": "text"
      },
      "source": [
        "<a href=\"https://colab.research.google.com/github/dina-lab3D/ContactNet/blob/master/ContactNet.ipynb\" target=\"_parent\"><img src=\"https://colab.research.google.com/assets/colab-badge.svg\" alt=\"Open In Colab\"/></a>"
      ]
    },
    {
      "cell_type": "markdown",
      "metadata": {
        "id": "OeLrSY7MkKXX"
      },
      "source": [
        "\n",
        "#Antigen-antibody docking tutorial\n",
        "<img src=\"https://drive.google.com/uc?export=view&id=1J6FA12dZKcf7ydSQdnFo8b7bwi-NehB5\" width=\"300\">\n",
        "<img src=\"https://drive.google.com/uc?export=view&id=1J83QaZWoK1Xi2-dqt7o8jdImcJ8HDJf-\" width=\"150\">"
      ]
    },
    {
      "cell_type": "markdown",
      "metadata": {
        "id": "mpZSgw3c7su6"
      },
      "source": [
        "In this tutorial we use a docking software to dock a modeled antibody to an antigen. We will work in 2 steps:\n",
        "\n",
        "\n",
        "1. Docking using PatchDock\n",
        "2. Scoring using interface scoring function ContactNet\n",
        "\n"
      ]
    },
    {
      "cell_type": "code",
      "execution_count": null,
      "metadata": {
        "id": "SopFTf6X5oPQ",
        "cellView": "form"
      },
      "outputs": [],
      "source": [
        "#@title Download docking software - PatchDock\n",
        "!wget https://github.com/dina-lab3D/tutorials/raw/main/PatchDock/pd.zip\n",
        "!unzip pd.zip"
      ]
    },
    {
      "cell_type": "code",
      "execution_count": null,
      "metadata": {
        "id": "akkyf4V33_SE",
        "cellView": "form"
      },
      "outputs": [],
      "source": [
        "#@title Download and install ContactNet\n",
        "%cd /content/\n",
        "!git clone https://github.com/dina-lab3D/ContactNet --quiet\n",
        "!pip install tensorflow_addons\n",
        "!pip install wandb\n",
        "%cd ContactNet/src/ComplexDistogram/\n",
        "!cmake .\n",
        "!make\n"
      ]
    },
    {
      "cell_type": "code",
      "execution_count": null,
      "metadata": {
        "id": "L3laKNpp749_",
        "colab": {
          "base_uri": "https://localhost:8080/"
        },
        "outputId": "4c44bea4-c83e-4087-c28d-4cfb8caac963"
      },
      "outputs": [
        {
          "output_type": "stream",
          "name": "stdout",
          "text": [
            "/content\n"
          ]
        }
      ],
      "source": [
        "#@title Prepare input for docking in the example folder\n",
        "%cd /content/\n",
        "%mkdir example\n",
        "!cp /content/ContactNet/example/*.pdb /content/example/"
      ]
    },
    {
      "cell_type": "code",
      "execution_count": null,
      "metadata": {
        "id": "h6962JuEByYe",
        "cellView": "form"
      },
      "outputs": [],
      "source": [
        "#@title run PatchDock\n",
        "%cd /content/example/\n",
        "# dock the antibody model to the antigen, final clustering of 4A, \"AA\" tells PatchDock to use antigen-antibody docking and focus on nanobody CDRs\n",
        "! ../PatchDock/buildParams.pl 1kip_Ag.pdb 1kip_AF2_Ab.pdb 4.0 AA\n",
        "! ../PatchDock/patch_dock.Linux params.txt docking.res\n",
        "# generate top 10 by geometric score\n",
        "! ../PatchDock/transOutput.pl docking.res 1 10"
      ]
    },
    {
      "cell_type": "code",
      "execution_count": null,
      "metadata": {
        "id": "RyNwRRys8dOz"
      },
      "outputs": [],
      "source": [
        "#@title run ContactNet scoring\n",
        "!python3 /content/ContactNet/data_maker.py 1kip_Ag.pdb 1kip_AF2_Ab.pdb docking.res --trans_num 1000\n",
        "!python3 /content/ContactNet/predict_prot.py 1kip_Ag.pdb 1kip_AF2_Ab.pdb --trans_num 1000"
      ]
    },
    {
      "cell_type": "code",
      "source": [
        "#@title plot scores vs. RMSDs (funnel)\n",
        "\n",
        "# create a file with interface rmsds and the scores\n",
        "!grep \"|\" docking.res | awk '{print $1\" \"$4} ' | tr '(' ' ' | tr ')' ' ' > rmsds\n",
        "!sed -i 's/|/rmsd/' rmsds\n",
        "!cut -f2 evaluation > cnet\n",
        "!paste -d ' ' rmsds cnet | head -1001 > all_scores.txt\n",
        "\n",
        "import pandas as pd\n",
        "import seaborn as sns\n",
        "import matplotlib.pyplot as plt\n",
        "import numpy as np\n",
        "from plotnine import *\n",
        "from scipy import stats\n",
        "from scipy.interpolate import make_interp_spline\n",
        "\n",
        "df = pd.read_csv(\"all_scores.txt\", delimiter=r\"\\s+\")\n",
        "#print (df)\n",
        "sns.set_theme(style=\"whitegrid\")\n",
        "sns.set(font_scale = 2)\n",
        "sns.set_style(\"whitegrid\")\n",
        "\n",
        "fig1 = plt.figure(1, figsize=(6, 4), dpi=100)\n",
        "\n",
        "sns.scatterplot(data = df,x=\"rmsd\", y=\"score\")\n",
        "plt.show()\n",
        "plt.savefig('scatter.png')\n",
        "\n",
        "# reverse ContactNet scores (now lower is better)\n",
        "#df[\"score\"] = -df[\"score\"]\n",
        "\n",
        "# select best model\n",
        "best_model = int(df[\"#\"].iloc[df[\"score\"].argmax()])\n",
        "print(best_model)\n",
        "\n",
        "\n"
      ],
      "metadata": {
        "id": "MuXVSAr8VXi5"
      },
      "execution_count": null,
      "outputs": []
    },
    {
      "cell_type": "code",
      "source": [
        "!pip install py3Dmol\n",
        "#@title Display 3D structure {run: \"auto\"}\n",
        "import py3Dmol\n",
        "import glob\n",
        "\n",
        "#@title Display best scoring model\n",
        "! /content/PatchDock/transOutput.pl docking.res $best_model $best_model\n",
        "with open(\"1kip_AF2_Ab.pdb\") as ifile:\n",
        "    true = \"\".join([x for x in ifile])\n",
        "with open(f\"docking.res.{best_model}.pdb\") as ifile:\n",
        "    predicted = \"\".join([x for x in ifile])\n",
        "\n",
        "\n",
        "r,g,b = 255,0,0\n",
        "print(f\"\\033[38;2;{r};{g};{b}mPredicted model \\033[38;2;255;255;255m\")\n",
        "r,g,b = 0,0,255\n",
        "print(f\"\\033[38;2;{r};{g};{b}mNative structure \\033[38;2;255;255;255m\")\n",
        "view = py3Dmol.view(width=500, height=500)\n",
        "view.addModelsAsFrames(predicted)\n",
        "view.setStyle({'model': 0, \"chain\": \"C\"}, {\"cartoon\": {'arrows':True, 'color': 'gray'}})\n",
        "view.setStyle({'model': 0, \"chain\": \"A\"}, {\"cartoon\": {'arrows':True, 'color': 'red'}})\n",
        "view.setStyle({'model': 0, \"chain\": \"B\"}, {\"cartoon\": {'arrows':True, 'color': 'red'}})\n",
        "view.addModelsAsFrames(true)\n",
        "view.setStyle({'model': 1}, {\"cartoon\": {'arrows':True, 'color': 'blue'}})\n",
        "view.zoomTo()\n",
        "view.show()\n"
      ],
      "metadata": {
        "id": "MSpYVDXfcv9G"
      },
      "execution_count": null,
      "outputs": []
    }
  ],
  "metadata": {
    "colab": {
      "provenance": [],
      "toc_visible": true,
      "include_colab_link": true
    },
    "kernelspec": {
      "display_name": "Python 3",
      "name": "python3"
    },
    "language_info": {
      "name": "python"
    }
  },
  "nbformat": 4,
  "nbformat_minor": 0
}